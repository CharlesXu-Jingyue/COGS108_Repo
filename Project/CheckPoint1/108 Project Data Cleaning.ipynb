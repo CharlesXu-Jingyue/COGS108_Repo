{
 "cells": [
  {
   "cell_type": "markdown",
   "id": "71ab0417",
   "metadata": {},
   "source": [
    "# COGS 108 - Data Cleaning Example\n",
    "This notebook serves as an example of data cleaning using the vehicle stops data from 2014. Found here: https://data.sandiego.gov/datasets/police-vehicle-stops/\n",
    "\n",
    "Feel free to add more and share thoughts!"
   ]
  },
  {
   "cell_type": "code",
   "execution_count": 187,
   "id": "01edd592",
   "metadata": {},
   "outputs": [],
   "source": [
    "import pandas as pd\n",
    "import numpy as np\n",
    "import seaborn as sns"
   ]
  },
  {
   "cell_type": "markdown",
   "id": "e4ee3bf7",
   "metadata": {},
   "source": [
    "## 1. Datasets"
   ]
  },
  {
   "cell_type": "code",
   "execution_count": 189,
   "id": "6b8f6294",
   "metadata": {
    "scrolled": true
   },
   "outputs": [],
   "source": [
    "race_code = pd.read_csv('vehicle_stops_race_codes.csv')\n",
    "df_dict = pd.read_csv('vehicle_stops_dictionary.csv')\n",
    "stop_2014 = pd.read_csv('vehicle_stops_2014_datasd_v1.csv')"
   ]
  },
  {
   "cell_type": "markdown",
   "id": "e4afd413",
   "metadata": {},
   "source": [
    "#### Extract columns we intend to use, and rename for the purpose of convenience in manipulation."
   ]
  },
  {
   "cell_type": "code",
   "execution_count": 190,
   "id": "706d4293",
   "metadata": {
    "scrolled": true
   },
   "outputs": [],
   "source": [
    "stop_2014 = stop_2014.loc[:, ['stop_id', 'stop_cause', 'subject_race', 'subject_sex', 'subject_age', 'date_time', 'time_stop', 'arrested', 'searched']]\n",
    "stop_2014 = stop_2014.rename(columns = {'subject_race': 'race', 'subject_sex': 'sex', 'subject_age': 'age'})"
   ]
  },
  {
   "cell_type": "markdown",
   "id": "acee47b0",
   "metadata": {},
   "source": [
    "## 2. Messy or unfaithful data\n",
    "Does the data contain unrealistic or \"incorrect\" values?\n",
    "\n",
    "#### 1. Check Data Types\n",
    "    - Convert `date_time` column to datatime objects for better manipulations in the future\n",
    "    - Convert `age` column to int by `stop_2014['age'] = pd.to_numeric(stop_2014['age'])`\n",
    "        - However, some non-numeric values raised error. We'll see how to deal with them in the next step"
   ]
  },
  {
   "cell_type": "code",
   "execution_count": 191,
   "id": "2251207a",
   "metadata": {
    "scrolled": true
   },
   "outputs": [
    {
     "name": "stdout",
     "output_type": "stream",
     "text": [
      "<class 'pandas.core.frame.DataFrame'>\n",
      "RangeIndex: 144164 entries, 0 to 144163\n",
      "Data columns (total 9 columns):\n",
      " #   Column      Non-Null Count   Dtype \n",
      "---  ------      --------------   ----- \n",
      " 0   stop_id     144164 non-null  int64 \n",
      " 1   stop_cause  143952 non-null  object\n",
      " 2   race        143942 non-null  object\n",
      " 3   sex         143974 non-null  object\n",
      " 4   age         140929 non-null  object\n",
      " 5   date_time   143664 non-null  object\n",
      " 6   time_stop   143682 non-null  object\n",
      " 7   arrested    142293 non-null  object\n",
      " 8   searched    142087 non-null  object\n",
      "dtypes: int64(1), object(8)\n",
      "memory usage: 9.9+ MB\n"
     ]
    }
   ],
   "source": [
    "stop_2014.info() \n",
    "stop_2014['date_time'] = pd.to_datetime(stop_2014['date_time'])"
   ]
  },
  {
   "cell_type": "markdown",
   "id": "bcde7a8a",
   "metadata": {},
   "source": [
    "#### 2. Unrealistic observations? Missing Values? \n",
    "    - Investigate columns of `race`, `sex`, and `age` \n",
    "    \n"
   ]
  },
  {
   "cell_type": "markdown",
   "id": "3f65325f",
   "metadata": {},
   "source": [
    "- The values in `race` column are valid, except with null values. For the purpose of our study, we dropped the 222 observations with null races as followed. With a huge dataset, there won't be a big problem. "
   ]
  },
  {
   "cell_type": "code",
   "execution_count": 194,
   "id": "1af860ea",
   "metadata": {
    "scrolled": true
   },
   "outputs": [
    {
     "data": {
      "text/html": [
       "<div>\n",
       "<style scoped>\n",
       "    .dataframe tbody tr th:only-of-type {\n",
       "        vertical-align: middle;\n",
       "    }\n",
       "\n",
       "    .dataframe tbody tr th {\n",
       "        vertical-align: top;\n",
       "    }\n",
       "\n",
       "    .dataframe thead th {\n",
       "        text-align: right;\n",
       "    }\n",
       "</style>\n",
       "<table border=\"1\" class=\"dataframe\">\n",
       "  <thead>\n",
       "    <tr style=\"text-align: right;\">\n",
       "      <th></th>\n",
       "      <th>stop_id</th>\n",
       "      <th>stop_cause</th>\n",
       "      <th>race</th>\n",
       "      <th>sex</th>\n",
       "      <th>age</th>\n",
       "      <th>date_time</th>\n",
       "      <th>time_stop</th>\n",
       "      <th>arrested</th>\n",
       "      <th>searched</th>\n",
       "    </tr>\n",
       "  </thead>\n",
       "  <tbody>\n",
       "    <tr>\n",
       "      <th>0</th>\n",
       "      <td>1044975</td>\n",
       "      <td>Moving Violation</td>\n",
       "      <td>W</td>\n",
       "      <td>M</td>\n",
       "      <td>24</td>\n",
       "      <td>2014-01-01 01:25:00</td>\n",
       "      <td>1:25</td>\n",
       "      <td>N</td>\n",
       "      <td>N</td>\n",
       "    </tr>\n",
       "    <tr>\n",
       "      <th>1</th>\n",
       "      <td>1044976</td>\n",
       "      <td>Moving Violation</td>\n",
       "      <td>W</td>\n",
       "      <td>M</td>\n",
       "      <td>42</td>\n",
       "      <td>2014-01-01 05:47:00</td>\n",
       "      <td>5:47</td>\n",
       "      <td>N</td>\n",
       "      <td>N</td>\n",
       "    </tr>\n",
       "    <tr>\n",
       "      <th>2</th>\n",
       "      <td>1044977</td>\n",
       "      <td>Moving Violation</td>\n",
       "      <td>L</td>\n",
       "      <td>M</td>\n",
       "      <td>29</td>\n",
       "      <td>2014-01-01 07:46:00</td>\n",
       "      <td>7:46</td>\n",
       "      <td>N</td>\n",
       "      <td>N</td>\n",
       "    </tr>\n",
       "    <tr>\n",
       "      <th>3</th>\n",
       "      <td>1044978</td>\n",
       "      <td>Moving Violation</td>\n",
       "      <td>W</td>\n",
       "      <td>M</td>\n",
       "      <td>23</td>\n",
       "      <td>2014-01-01 08:10:00</td>\n",
       "      <td>8:10</td>\n",
       "      <td>N</td>\n",
       "      <td>N</td>\n",
       "    </tr>\n",
       "    <tr>\n",
       "      <th>4</th>\n",
       "      <td>1044980</td>\n",
       "      <td>Equipment Violation</td>\n",
       "      <td>H</td>\n",
       "      <td>M</td>\n",
       "      <td>35</td>\n",
       "      <td>2014-01-01 08:35:00</td>\n",
       "      <td>8:35</td>\n",
       "      <td>N</td>\n",
       "      <td>N</td>\n",
       "    </tr>\n",
       "    <tr>\n",
       "      <th>...</th>\n",
       "      <td>...</td>\n",
       "      <td>...</td>\n",
       "      <td>...</td>\n",
       "      <td>...</td>\n",
       "      <td>...</td>\n",
       "      <td>...</td>\n",
       "      <td>...</td>\n",
       "      <td>...</td>\n",
       "      <td>...</td>\n",
       "    </tr>\n",
       "    <tr>\n",
       "      <th>143937</th>\n",
       "      <td>1189740</td>\n",
       "      <td>Moving Violation</td>\n",
       "      <td>B</td>\n",
       "      <td>F</td>\n",
       "      <td>54</td>\n",
       "      <td>2014-12-31 23:40:00</td>\n",
       "      <td>23:40</td>\n",
       "      <td>N</td>\n",
       "      <td>N</td>\n",
       "    </tr>\n",
       "    <tr>\n",
       "      <th>143938</th>\n",
       "      <td>1189744</td>\n",
       "      <td>Moving Violation</td>\n",
       "      <td>W</td>\n",
       "      <td>M</td>\n",
       "      <td>34</td>\n",
       "      <td>2014-12-31 23:40:00</td>\n",
       "      <td>23:40</td>\n",
       "      <td>N</td>\n",
       "      <td>N</td>\n",
       "    </tr>\n",
       "    <tr>\n",
       "      <th>143939</th>\n",
       "      <td>1189743</td>\n",
       "      <td>Moving Violation</td>\n",
       "      <td>H</td>\n",
       "      <td>M</td>\n",
       "      <td>39</td>\n",
       "      <td>2014-12-31 23:45:00</td>\n",
       "      <td>23:45</td>\n",
       "      <td>N</td>\n",
       "      <td>N</td>\n",
       "    </tr>\n",
       "    <tr>\n",
       "      <th>143940</th>\n",
       "      <td>1189750</td>\n",
       "      <td>Moving Violation</td>\n",
       "      <td>W</td>\n",
       "      <td>F</td>\n",
       "      <td>29</td>\n",
       "      <td>2014-12-31 23:49:00</td>\n",
       "      <td>23:49</td>\n",
       "      <td>N</td>\n",
       "      <td>N</td>\n",
       "    </tr>\n",
       "    <tr>\n",
       "      <th>143941</th>\n",
       "      <td>1189751</td>\n",
       "      <td>Moving Violation</td>\n",
       "      <td>W</td>\n",
       "      <td>F</td>\n",
       "      <td>22</td>\n",
       "      <td>2014-12-31 23:49:00</td>\n",
       "      <td>23:49</td>\n",
       "      <td>N</td>\n",
       "      <td>N</td>\n",
       "    </tr>\n",
       "  </tbody>\n",
       "</table>\n",
       "<p>143942 rows × 9 columns</p>\n",
       "</div>"
      ],
      "text/plain": [
       "        stop_id           stop_cause race sex age           date_time  \\\n",
       "0       1044975     Moving Violation    W   M  24 2014-01-01 01:25:00   \n",
       "1       1044976     Moving Violation    W   M  42 2014-01-01 05:47:00   \n",
       "2       1044977     Moving Violation    L   M  29 2014-01-01 07:46:00   \n",
       "3       1044978     Moving Violation    W   M  23 2014-01-01 08:10:00   \n",
       "4       1044980  Equipment Violation    H   M  35 2014-01-01 08:35:00   \n",
       "...         ...                  ...  ...  ..  ..                 ...   \n",
       "143937  1189740     Moving Violation    B   F  54 2014-12-31 23:40:00   \n",
       "143938  1189744     Moving Violation    W   M  34 2014-12-31 23:40:00   \n",
       "143939  1189743     Moving Violation    H   M  39 2014-12-31 23:45:00   \n",
       "143940  1189750     Moving Violation    W   F  29 2014-12-31 23:49:00   \n",
       "143941  1189751     Moving Violation    W   F  22 2014-12-31 23:49:00   \n",
       "\n",
       "       time_stop arrested searched  \n",
       "0           1:25        N        N  \n",
       "1           5:47        N        N  \n",
       "2           7:46        N        N  \n",
       "3           8:10        N        N  \n",
       "4           8:35        N        N  \n",
       "...          ...      ...      ...  \n",
       "143937     23:40        N        N  \n",
       "143938     23:40        N        N  \n",
       "143939     23:45        N        N  \n",
       "143940     23:49        N        N  \n",
       "143941     23:49        N        N  \n",
       "\n",
       "[143942 rows x 9 columns]"
      ]
     },
     "execution_count": 194,
     "metadata": {},
     "output_type": "execute_result"
    }
   ],
   "source": [
    "stop_2014.race.unique() \n",
    "stop_2014 = stop_2014.loc[~stop_2014['race'].isna(), :]\n",
    "stop_2014.reset_index(drop = True)"
   ]
  },
  {
   "cell_type": "markdown",
   "id": "84d653f9",
   "metadata": {},
   "source": [
    "- The values in `sex` column contain something we don't know:\n",
    "\n",
    "    what is `X` in `array(['M', 'F', nan, 'X'], dtype=object)`? "
   ]
  },
  {
   "cell_type": "code",
   "execution_count": 195,
   "id": "6b5629e1",
   "metadata": {},
   "outputs": [
    {
     "data": {
      "text/plain": [
       "array(['M', 'F', nan, 'X'], dtype=object)"
      ]
     },
     "execution_count": 195,
     "metadata": {},
     "output_type": "execute_result"
    }
   ],
   "source": [
    "stop_2014.sex.unique()"
   ]
  },
  {
   "cell_type": "markdown",
   "id": "b37607a0",
   "metadata": {},
   "source": [
    "From the dictionary of our datasets, `X` is not expected:"
   ]
  },
  {
   "cell_type": "code",
   "execution_count": 196,
   "id": "3c0789aa",
   "metadata": {},
   "outputs": [
    {
     "data": {
      "text/plain": [
       "Description        sex code\n",
       "Possible Values        M, F\n",
       "Name: suject_sex, dtype: object"
      ]
     },
     "execution_count": 196,
     "metadata": {},
     "output_type": "execute_result"
    }
   ],
   "source": [
    "df_dict.set_index('Field').loc['suject_sex']"
   ]
  },
  {
   "cell_type": "markdown",
   "id": "e1d5de95",
   "metadata": {},
   "source": [
    "- For now, we would just convert `X` to NaN for data consistency. We may drop the 23 observations later if we want to explore how gender is related to police's decisions of vehicle stops"
   ]
  },
  {
   "cell_type": "code",
   "execution_count": 197,
   "id": "fc08c714",
   "metadata": {},
   "outputs": [],
   "source": [
    "stop_2014[stop_2014['sex'] == 'X']\n",
    "stop_201b4 = stop_2014.replace({'sex': {'X': np.NaN}})"
   ]
  },
  {
   "cell_type": "markdown",
   "id": "0711e857",
   "metadata": {},
   "source": [
    "- The values in `age` column have invalid values: too small or too large that are out of our common sense: 0, 2, 5, 185, 230, for example. Or something that aren't numeric: '5_', '4_', 'N', etc...\n",
    "    For the latter ones, we'll just save them as nan"
   ]
  },
  {
   "cell_type": "code",
   "execution_count": 198,
   "id": "2d3eef3d",
   "metadata": {},
   "outputs": [],
   "source": [
    "stop_2014.age.unique() \n",
    "stop_2014['age'] = pd.to_numeric(stop_2014['age'], errors='coerce')"
   ]
  },
  {
   "cell_type": "markdown",
   "id": "70d694bf",
   "metadata": {},
   "source": [
    "However, ages still range all over the place, from min 0.0 to max 255. Are these due to manual errors? Since currently we are not dealing with ages with vehicle stops, we'll leave it like this, but we'll keep in mind how the ages could influence the validity of our observations."
   ]
  },
  {
   "cell_type": "code",
   "execution_count": 199,
   "id": "534becb8",
   "metadata": {},
   "outputs": [
    {
     "data": {
      "text/plain": [
       "array([ 24.,  42.,  29.,  23.,  35.,  30.,  19.,  32.,  36.,  27.,  16.,\n",
       "        50.,  47.,  25.,  53.,  31.,  21.,  75.,  41.,  37.,  18.,  49.,\n",
       "        82.,  40.,  17.,  33.,  22.,  43.,  48.,  44.,  nan,  62.,  38.,\n",
       "        57.,  46.,  58.,  39.,  60.,  56.,  73.,  34.,  74.,  26.,  63.,\n",
       "        54.,  55.,  68.,  28.,  65.,  20.,  45.,  52.,   0.,  64.,  70.,\n",
       "        66.,  72.,  61.,  59.,  69.,  71.,  51.,  88.,  67.,  84.,  79.,\n",
       "        77.,   5.,  81.,  83.,  97.,  89.,  78.,  76.,  90.,  87.,  85.,\n",
       "        80., 230.,  86.,  93.,  15.,   2., 211.,  94.,   8., 234., 185.,\n",
       "        13.,  12.,  92.,   9., 153.,   7.,  95.,  14.,  91.,   6.,   4.,\n",
       "        10., 221.,   1., 255., 224.,   3.,  96., 204.,  99., 223., 228.,\n",
       "       222., 200.])"
      ]
     },
     "execution_count": 199,
     "metadata": {},
     "output_type": "execute_result"
    }
   ],
   "source": [
    "stop_2014['age'].describe()\n",
    "stop_2014['age'].unique() "
   ]
  },
  {
   "cell_type": "markdown",
   "id": "d110e4c3",
   "metadata": {},
   "source": [
    "#### 3. Data Granularity\n",
    "As we observe previously, the race column has many correponding letters"
   ]
  },
  {
   "cell_type": "code",
   "execution_count": 200,
   "id": "a9fd01f7",
   "metadata": {
    "scrolled": true
   },
   "outputs": [
    {
     "data": {
      "text/plain": [
       "array(['W', 'L', 'H', 'V', 'B', 'A', 'O', 'C', 'F', 'Z', 'I', 'P', 'J',\n",
       "       'X', 'K', 'U', 'G', 'S', 'D'], dtype=object)"
      ]
     },
     "execution_count": 200,
     "metadata": {},
     "output_type": "execute_result"
    }
   ],
   "source": [
    "stop_2014.race.unique()"
   ]
  },
  {
   "cell_type": "code",
   "execution_count": 201,
   "id": "37b89166",
   "metadata": {
    "scrolled": true
   },
   "outputs": [
    {
     "data": {
      "text/html": [
       "<div>\n",
       "<style scoped>\n",
       "    .dataframe tbody tr th:only-of-type {\n",
       "        vertical-align: middle;\n",
       "    }\n",
       "\n",
       "    .dataframe tbody tr th {\n",
       "        vertical-align: top;\n",
       "    }\n",
       "\n",
       "    .dataframe thead th {\n",
       "        text-align: right;\n",
       "    }\n",
       "</style>\n",
       "<table border=\"1\" class=\"dataframe\">\n",
       "  <thead>\n",
       "    <tr style=\"text-align: right;\">\n",
       "      <th></th>\n",
       "      <th>Race Code</th>\n",
       "      <th>Description</th>\n",
       "    </tr>\n",
       "  </thead>\n",
       "  <tbody>\n",
       "    <tr>\n",
       "      <th>0</th>\n",
       "      <td>A</td>\n",
       "      <td>OTHER ASIAN</td>\n",
       "    </tr>\n",
       "    <tr>\n",
       "      <th>1</th>\n",
       "      <td>B</td>\n",
       "      <td>BLACK</td>\n",
       "    </tr>\n",
       "    <tr>\n",
       "      <th>2</th>\n",
       "      <td>C</td>\n",
       "      <td>CHINESE</td>\n",
       "    </tr>\n",
       "    <tr>\n",
       "      <th>3</th>\n",
       "      <td>D</td>\n",
       "      <td>CAMBODIAN</td>\n",
       "    </tr>\n",
       "    <tr>\n",
       "      <th>4</th>\n",
       "      <td>F</td>\n",
       "      <td>FILIPINO</td>\n",
       "    </tr>\n",
       "    <tr>\n",
       "      <th>5</th>\n",
       "      <td>G</td>\n",
       "      <td>GUAMANIAN</td>\n",
       "    </tr>\n",
       "    <tr>\n",
       "      <th>6</th>\n",
       "      <td>H</td>\n",
       "      <td>HISPANIC</td>\n",
       "    </tr>\n",
       "    <tr>\n",
       "      <th>7</th>\n",
       "      <td>I</td>\n",
       "      <td>INDIAN</td>\n",
       "    </tr>\n",
       "    <tr>\n",
       "      <th>8</th>\n",
       "      <td>J</td>\n",
       "      <td>JAPANESE</td>\n",
       "    </tr>\n",
       "    <tr>\n",
       "      <th>9</th>\n",
       "      <td>K</td>\n",
       "      <td>KOREAN</td>\n",
       "    </tr>\n",
       "    <tr>\n",
       "      <th>10</th>\n",
       "      <td>L</td>\n",
       "      <td>LAOTIAN</td>\n",
       "    </tr>\n",
       "    <tr>\n",
       "      <th>11</th>\n",
       "      <td>O</td>\n",
       "      <td>OTHER</td>\n",
       "    </tr>\n",
       "    <tr>\n",
       "      <th>12</th>\n",
       "      <td>P</td>\n",
       "      <td>PACIFIC ISLANDER</td>\n",
       "    </tr>\n",
       "    <tr>\n",
       "      <th>13</th>\n",
       "      <td>S</td>\n",
       "      <td>SAMOAN</td>\n",
       "    </tr>\n",
       "    <tr>\n",
       "      <th>14</th>\n",
       "      <td>U</td>\n",
       "      <td>HAWAIIAN</td>\n",
       "    </tr>\n",
       "    <tr>\n",
       "      <th>15</th>\n",
       "      <td>V</td>\n",
       "      <td>VIETNAMESE</td>\n",
       "    </tr>\n",
       "    <tr>\n",
       "      <th>16</th>\n",
       "      <td>W</td>\n",
       "      <td>WHITE</td>\n",
       "    </tr>\n",
       "    <tr>\n",
       "      <th>17</th>\n",
       "      <td>Z</td>\n",
       "      <td>ASIAN INDIAN</td>\n",
       "    </tr>\n",
       "  </tbody>\n",
       "</table>\n",
       "</div>"
      ],
      "text/plain": [
       "   Race Code       Description\n",
       "0          A       OTHER ASIAN\n",
       "1          B             BLACK\n",
       "2          C           CHINESE\n",
       "3          D         CAMBODIAN\n",
       "4          F          FILIPINO\n",
       "5          G         GUAMANIAN\n",
       "6          H          HISPANIC\n",
       "7          I            INDIAN\n",
       "8          J          JAPANESE\n",
       "9          K            KOREAN\n",
       "10         L           LAOTIAN\n",
       "11         O             OTHER\n",
       "12         P  PACIFIC ISLANDER\n",
       "13         S            SAMOAN\n",
       "14         U          HAWAIIAN\n",
       "15         V        VIETNAMESE\n",
       "16         W             WHITE\n",
       "17         Z      ASIAN INDIAN"
      ]
     },
     "execution_count": 201,
     "metadata": {},
     "output_type": "execute_result"
    }
   ],
   "source": [
    "# Race Code Dict\n",
    "race_code"
   ]
  },
  {
   "cell_type": "markdown",
   "id": "63b9ae2f",
   "metadata": {},
   "source": [
    "The level of granularity of the races in our data right now seems inconsistent. \n",
    "For instance, 'WHITE' and 'BLACK' are much more broad than 'FILIPINO', 'JAPANESE', and 'GUAMANIAN'.\n",
    "Therefore, we decided to adjust the granularity by manually defining each race code as followed:"
   ]
  },
  {
   "cell_type": "code",
   "execution_count": 202,
   "id": "73b4e88a",
   "metadata": {},
   "outputs": [],
   "source": [
    "race_dict = {'A':'Asian',\n",
    "             'B':'Black',\n",
    "             'C':'Asian',\n",
    "             'D':'Asian',\n",
    "             'F':'Asian',\n",
    "             'G':'Asian',\n",
    "             'H':'Hispanic',\n",
    "             'I':'Native American',\n",
    "             'J':'Asian',\n",
    "             'K':'Asian',\n",
    "             'L':'Asian',\n",
    "             'O':'Other',\n",
    "             'P':'Asian',\n",
    "             'S':'Asian',\n",
    "             'U':'Hawaiian',\n",
    "             'V':'Asian',\n",
    "             'W':'White',\n",
    "             'Z':'Asian'\n",
    "            }"
   ]
  },
  {
   "cell_type": "code",
   "execution_count": 203,
   "id": "d55c4ab9",
   "metadata": {
    "scrolled": false
   },
   "outputs": [
    {
     "data": {
      "text/html": [
       "<div>\n",
       "<style scoped>\n",
       "    .dataframe tbody tr th:only-of-type {\n",
       "        vertical-align: middle;\n",
       "    }\n",
       "\n",
       "    .dataframe tbody tr th {\n",
       "        vertical-align: top;\n",
       "    }\n",
       "\n",
       "    .dataframe thead th {\n",
       "        text-align: right;\n",
       "    }\n",
       "</style>\n",
       "<table border=\"1\" class=\"dataframe\">\n",
       "  <thead>\n",
       "    <tr style=\"text-align: right;\">\n",
       "      <th></th>\n",
       "      <th>Race Code</th>\n",
       "      <th>Description</th>\n",
       "      <th>Race_Category</th>\n",
       "    </tr>\n",
       "  </thead>\n",
       "  <tbody>\n",
       "    <tr>\n",
       "      <th>0</th>\n",
       "      <td>A</td>\n",
       "      <td>OTHER ASIAN</td>\n",
       "      <td>Asian</td>\n",
       "    </tr>\n",
       "    <tr>\n",
       "      <th>1</th>\n",
       "      <td>B</td>\n",
       "      <td>BLACK</td>\n",
       "      <td>Black</td>\n",
       "    </tr>\n",
       "    <tr>\n",
       "      <th>2</th>\n",
       "      <td>C</td>\n",
       "      <td>CHINESE</td>\n",
       "      <td>Asian</td>\n",
       "    </tr>\n",
       "    <tr>\n",
       "      <th>3</th>\n",
       "      <td>D</td>\n",
       "      <td>CAMBODIAN</td>\n",
       "      <td>Asian</td>\n",
       "    </tr>\n",
       "    <tr>\n",
       "      <th>4</th>\n",
       "      <td>F</td>\n",
       "      <td>FILIPINO</td>\n",
       "      <td>Asian</td>\n",
       "    </tr>\n",
       "    <tr>\n",
       "      <th>5</th>\n",
       "      <td>G</td>\n",
       "      <td>GUAMANIAN</td>\n",
       "      <td>Asian</td>\n",
       "    </tr>\n",
       "    <tr>\n",
       "      <th>6</th>\n",
       "      <td>H</td>\n",
       "      <td>HISPANIC</td>\n",
       "      <td>Hispanic</td>\n",
       "    </tr>\n",
       "    <tr>\n",
       "      <th>7</th>\n",
       "      <td>I</td>\n",
       "      <td>INDIAN</td>\n",
       "      <td>Native American</td>\n",
       "    </tr>\n",
       "    <tr>\n",
       "      <th>8</th>\n",
       "      <td>J</td>\n",
       "      <td>JAPANESE</td>\n",
       "      <td>Asian</td>\n",
       "    </tr>\n",
       "    <tr>\n",
       "      <th>9</th>\n",
       "      <td>K</td>\n",
       "      <td>KOREAN</td>\n",
       "      <td>Asian</td>\n",
       "    </tr>\n",
       "    <tr>\n",
       "      <th>10</th>\n",
       "      <td>L</td>\n",
       "      <td>LAOTIAN</td>\n",
       "      <td>Asian</td>\n",
       "    </tr>\n",
       "    <tr>\n",
       "      <th>11</th>\n",
       "      <td>O</td>\n",
       "      <td>OTHER</td>\n",
       "      <td>Other</td>\n",
       "    </tr>\n",
       "    <tr>\n",
       "      <th>12</th>\n",
       "      <td>P</td>\n",
       "      <td>PACIFIC ISLANDER</td>\n",
       "      <td>Asian</td>\n",
       "    </tr>\n",
       "    <tr>\n",
       "      <th>13</th>\n",
       "      <td>S</td>\n",
       "      <td>SAMOAN</td>\n",
       "      <td>Asian</td>\n",
       "    </tr>\n",
       "    <tr>\n",
       "      <th>14</th>\n",
       "      <td>U</td>\n",
       "      <td>HAWAIIAN</td>\n",
       "      <td>Hawaiian</td>\n",
       "    </tr>\n",
       "    <tr>\n",
       "      <th>15</th>\n",
       "      <td>V</td>\n",
       "      <td>VIETNAMESE</td>\n",
       "      <td>Asian</td>\n",
       "    </tr>\n",
       "    <tr>\n",
       "      <th>16</th>\n",
       "      <td>W</td>\n",
       "      <td>WHITE</td>\n",
       "      <td>White</td>\n",
       "    </tr>\n",
       "    <tr>\n",
       "      <th>17</th>\n",
       "      <td>Z</td>\n",
       "      <td>ASIAN INDIAN</td>\n",
       "      <td>Asian</td>\n",
       "    </tr>\n",
       "  </tbody>\n",
       "</table>\n",
       "</div>"
      ],
      "text/plain": [
       "   Race Code       Description    Race_Category\n",
       "0          A       OTHER ASIAN            Asian\n",
       "1          B             BLACK            Black\n",
       "2          C           CHINESE            Asian\n",
       "3          D         CAMBODIAN            Asian\n",
       "4          F          FILIPINO            Asian\n",
       "5          G         GUAMANIAN            Asian\n",
       "6          H          HISPANIC         Hispanic\n",
       "7          I            INDIAN  Native American\n",
       "8          J          JAPANESE            Asian\n",
       "9          K            KOREAN            Asian\n",
       "10         L           LAOTIAN            Asian\n",
       "11         O             OTHER            Other\n",
       "12         P  PACIFIC ISLANDER            Asian\n",
       "13         S            SAMOAN            Asian\n",
       "14         U          HAWAIIAN         Hawaiian\n",
       "15         V        VIETNAMESE            Asian\n",
       "16         W             WHITE            White\n",
       "17         Z      ASIAN INDIAN            Asian"
      ]
     },
     "execution_count": 203,
     "metadata": {},
     "output_type": "execute_result"
    }
   ],
   "source": [
    "race_code['Race_Category'] = race_code['Race Code'].replace(race_dict)\n",
    "race_code"
   ]
  },
  {
   "cell_type": "markdown",
   "id": "cc326f63",
   "metadata": {},
   "source": [
    "Join `stop_2014` with the race code"
   ]
  },
  {
   "cell_type": "code",
   "execution_count": 204,
   "id": "2258eda0",
   "metadata": {},
   "outputs": [],
   "source": [
    "stop_2014 = pd.merge(stop_2014, race_code, left_on = 'race', right_on = 'Race Code', how = 'left')"
   ]
  },
  {
   "cell_type": "code",
   "execution_count": 205,
   "id": "8914f9b1",
   "metadata": {
    "scrolled": true
   },
   "outputs": [
    {
     "data": {
      "text/html": [
       "<div>\n",
       "<style scoped>\n",
       "    .dataframe tbody tr th:only-of-type {\n",
       "        vertical-align: middle;\n",
       "    }\n",
       "\n",
       "    .dataframe tbody tr th {\n",
       "        vertical-align: top;\n",
       "    }\n",
       "\n",
       "    .dataframe thead th {\n",
       "        text-align: right;\n",
       "    }\n",
       "</style>\n",
       "<table border=\"1\" class=\"dataframe\">\n",
       "  <thead>\n",
       "    <tr style=\"text-align: right;\">\n",
       "      <th></th>\n",
       "      <th>stop_id</th>\n",
       "      <th>stop_cause</th>\n",
       "      <th>race</th>\n",
       "      <th>sex</th>\n",
       "      <th>age</th>\n",
       "      <th>date_time</th>\n",
       "      <th>time_stop</th>\n",
       "      <th>arrested</th>\n",
       "      <th>searched</th>\n",
       "      <th>Race Code</th>\n",
       "      <th>Description</th>\n",
       "      <th>Race_Category</th>\n",
       "    </tr>\n",
       "  </thead>\n",
       "  <tbody>\n",
       "    <tr>\n",
       "      <th>0</th>\n",
       "      <td>1044975</td>\n",
       "      <td>Moving Violation</td>\n",
       "      <td>W</td>\n",
       "      <td>M</td>\n",
       "      <td>24.0</td>\n",
       "      <td>2014-01-01 01:25:00</td>\n",
       "      <td>1:25</td>\n",
       "      <td>N</td>\n",
       "      <td>N</td>\n",
       "      <td>W</td>\n",
       "      <td>WHITE</td>\n",
       "      <td>White</td>\n",
       "    </tr>\n",
       "    <tr>\n",
       "      <th>1</th>\n",
       "      <td>1044976</td>\n",
       "      <td>Moving Violation</td>\n",
       "      <td>W</td>\n",
       "      <td>M</td>\n",
       "      <td>42.0</td>\n",
       "      <td>2014-01-01 05:47:00</td>\n",
       "      <td>5:47</td>\n",
       "      <td>N</td>\n",
       "      <td>N</td>\n",
       "      <td>W</td>\n",
       "      <td>WHITE</td>\n",
       "      <td>White</td>\n",
       "    </tr>\n",
       "    <tr>\n",
       "      <th>2</th>\n",
       "      <td>1044977</td>\n",
       "      <td>Moving Violation</td>\n",
       "      <td>L</td>\n",
       "      <td>M</td>\n",
       "      <td>29.0</td>\n",
       "      <td>2014-01-01 07:46:00</td>\n",
       "      <td>7:46</td>\n",
       "      <td>N</td>\n",
       "      <td>N</td>\n",
       "      <td>L</td>\n",
       "      <td>LAOTIAN</td>\n",
       "      <td>Asian</td>\n",
       "    </tr>\n",
       "    <tr>\n",
       "      <th>3</th>\n",
       "      <td>1044978</td>\n",
       "      <td>Moving Violation</td>\n",
       "      <td>W</td>\n",
       "      <td>M</td>\n",
       "      <td>23.0</td>\n",
       "      <td>2014-01-01 08:10:00</td>\n",
       "      <td>8:10</td>\n",
       "      <td>N</td>\n",
       "      <td>N</td>\n",
       "      <td>W</td>\n",
       "      <td>WHITE</td>\n",
       "      <td>White</td>\n",
       "    </tr>\n",
       "    <tr>\n",
       "      <th>4</th>\n",
       "      <td>1044980</td>\n",
       "      <td>Equipment Violation</td>\n",
       "      <td>H</td>\n",
       "      <td>M</td>\n",
       "      <td>35.0</td>\n",
       "      <td>2014-01-01 08:35:00</td>\n",
       "      <td>8:35</td>\n",
       "      <td>N</td>\n",
       "      <td>N</td>\n",
       "      <td>H</td>\n",
       "      <td>HISPANIC</td>\n",
       "      <td>Hispanic</td>\n",
       "    </tr>\n",
       "    <tr>\n",
       "      <th>...</th>\n",
       "      <td>...</td>\n",
       "      <td>...</td>\n",
       "      <td>...</td>\n",
       "      <td>...</td>\n",
       "      <td>...</td>\n",
       "      <td>...</td>\n",
       "      <td>...</td>\n",
       "      <td>...</td>\n",
       "      <td>...</td>\n",
       "      <td>...</td>\n",
       "      <td>...</td>\n",
       "      <td>...</td>\n",
       "    </tr>\n",
       "    <tr>\n",
       "      <th>143937</th>\n",
       "      <td>1189740</td>\n",
       "      <td>Moving Violation</td>\n",
       "      <td>B</td>\n",
       "      <td>F</td>\n",
       "      <td>54.0</td>\n",
       "      <td>2014-12-31 23:40:00</td>\n",
       "      <td>23:40</td>\n",
       "      <td>N</td>\n",
       "      <td>N</td>\n",
       "      <td>B</td>\n",
       "      <td>BLACK</td>\n",
       "      <td>Black</td>\n",
       "    </tr>\n",
       "    <tr>\n",
       "      <th>143938</th>\n",
       "      <td>1189744</td>\n",
       "      <td>Moving Violation</td>\n",
       "      <td>W</td>\n",
       "      <td>M</td>\n",
       "      <td>34.0</td>\n",
       "      <td>2014-12-31 23:40:00</td>\n",
       "      <td>23:40</td>\n",
       "      <td>N</td>\n",
       "      <td>N</td>\n",
       "      <td>W</td>\n",
       "      <td>WHITE</td>\n",
       "      <td>White</td>\n",
       "    </tr>\n",
       "    <tr>\n",
       "      <th>143939</th>\n",
       "      <td>1189743</td>\n",
       "      <td>Moving Violation</td>\n",
       "      <td>H</td>\n",
       "      <td>M</td>\n",
       "      <td>39.0</td>\n",
       "      <td>2014-12-31 23:45:00</td>\n",
       "      <td>23:45</td>\n",
       "      <td>N</td>\n",
       "      <td>N</td>\n",
       "      <td>H</td>\n",
       "      <td>HISPANIC</td>\n",
       "      <td>Hispanic</td>\n",
       "    </tr>\n",
       "    <tr>\n",
       "      <th>143940</th>\n",
       "      <td>1189750</td>\n",
       "      <td>Moving Violation</td>\n",
       "      <td>W</td>\n",
       "      <td>F</td>\n",
       "      <td>29.0</td>\n",
       "      <td>2014-12-31 23:49:00</td>\n",
       "      <td>23:49</td>\n",
       "      <td>N</td>\n",
       "      <td>N</td>\n",
       "      <td>W</td>\n",
       "      <td>WHITE</td>\n",
       "      <td>White</td>\n",
       "    </tr>\n",
       "    <tr>\n",
       "      <th>143941</th>\n",
       "      <td>1189751</td>\n",
       "      <td>Moving Violation</td>\n",
       "      <td>W</td>\n",
       "      <td>F</td>\n",
       "      <td>22.0</td>\n",
       "      <td>2014-12-31 23:49:00</td>\n",
       "      <td>23:49</td>\n",
       "      <td>N</td>\n",
       "      <td>N</td>\n",
       "      <td>W</td>\n",
       "      <td>WHITE</td>\n",
       "      <td>White</td>\n",
       "    </tr>\n",
       "  </tbody>\n",
       "</table>\n",
       "<p>143942 rows × 12 columns</p>\n",
       "</div>"
      ],
      "text/plain": [
       "        stop_id           stop_cause race sex   age           date_time  \\\n",
       "0       1044975     Moving Violation    W   M  24.0 2014-01-01 01:25:00   \n",
       "1       1044976     Moving Violation    W   M  42.0 2014-01-01 05:47:00   \n",
       "2       1044977     Moving Violation    L   M  29.0 2014-01-01 07:46:00   \n",
       "3       1044978     Moving Violation    W   M  23.0 2014-01-01 08:10:00   \n",
       "4       1044980  Equipment Violation    H   M  35.0 2014-01-01 08:35:00   \n",
       "...         ...                  ...  ...  ..   ...                 ...   \n",
       "143937  1189740     Moving Violation    B   F  54.0 2014-12-31 23:40:00   \n",
       "143938  1189744     Moving Violation    W   M  34.0 2014-12-31 23:40:00   \n",
       "143939  1189743     Moving Violation    H   M  39.0 2014-12-31 23:45:00   \n",
       "143940  1189750     Moving Violation    W   F  29.0 2014-12-31 23:49:00   \n",
       "143941  1189751     Moving Violation    W   F  22.0 2014-12-31 23:49:00   \n",
       "\n",
       "       time_stop arrested searched Race Code Description Race_Category  \n",
       "0           1:25        N        N         W       WHITE         White  \n",
       "1           5:47        N        N         W       WHITE         White  \n",
       "2           7:46        N        N         L     LAOTIAN         Asian  \n",
       "3           8:10        N        N         W       WHITE         White  \n",
       "4           8:35        N        N         H    HISPANIC      Hispanic  \n",
       "...          ...      ...      ...       ...         ...           ...  \n",
       "143937     23:40        N        N         B       BLACK         Black  \n",
       "143938     23:40        N        N         W       WHITE         White  \n",
       "143939     23:45        N        N         H    HISPANIC      Hispanic  \n",
       "143940     23:49        N        N         W       WHITE         White  \n",
       "143941     23:49        N        N         W       WHITE         White  \n",
       "\n",
       "[143942 rows x 12 columns]"
      ]
     },
     "execution_count": 205,
     "metadata": {},
     "output_type": "execute_result"
    }
   ],
   "source": [
    "stop_2014"
   ]
  },
  {
   "cell_type": "markdown",
   "id": "6a93b376",
   "metadata": {},
   "source": [
    "Now, we want to see how the distribution of race demographics is like in our dataset"
   ]
  },
  {
   "cell_type": "code",
   "execution_count": 206,
   "id": "66237a2a",
   "metadata": {},
   "outputs": [
    {
     "data": {
      "text/plain": [
       "White              0.431400\n",
       "Hispanic           0.302748\n",
       "Black              0.112338\n",
       "Asian              0.085095\n",
       "Other              0.062377\n",
       "Native American    0.005847\n",
       "Hawaiian           0.000195\n",
       "Name: Race_Category, dtype: float64"
      ]
     },
     "execution_count": 206,
     "metadata": {},
     "output_type": "execute_result"
    }
   ],
   "source": [
    "dist = stop_2014['Race_Category'].value_counts(normalize = True)\n",
    "dist"
   ]
  },
  {
   "cell_type": "code",
   "execution_count": 207,
   "id": "7fb103de",
   "metadata": {},
   "outputs": [
    {
     "data": {
      "text/plain": [
       "<AxesSubplot:>"
      ]
     },
     "execution_count": 207,
     "metadata": {},
     "output_type": "execute_result"
    },
    {
     "data": {
      "image/png": "[encoded data removed]",
      "text/plain": [
       "<Figure size 432x288 with 1 Axes>"
      ]
     },
     "metadata": {},
     "output_type": "display_data"
    }
   ],
   "source": [
    "#Visualize the distribution\n",
    "sns.set_theme(style=\"whitegrid\")\n",
    "title = \"Distribution of Races in 2014 Stops Data\"\n",
    "sns.barplot(x = dist.values, y = dist.index, palette=\"Blues_d\")"
   ]
  },
  {
   "cell_type": "code",
   "execution_count": 208,
   "id": "b7fec046",
   "metadata": {},
   "outputs": [],
   "source": [
    "#How does this compare to the poopulation demographic profiles in 2014, at San Diego County?"
   ]
  },
  {
   "cell_type": "code",
   "execution_count": null,
   "id": "614b66db",
   "metadata": {},
   "outputs": [],
   "source": []
  }
 ],
 "metadata": {
  "kernelspec": {
   "display_name": "Python 3 (clean)",
   "language": "python",
   "name": "python3_clean"
  },
  "language_info": {
   "codemirror_mode": {
    "name": "ipython",
    "version": 3
   },
   "file_extension": ".py",
   "mimetype": "text/x-python",
   "name": "python",
   "nbconvert_exporter": "python",
   "pygments_lexer": "ipython3",
   "version": "3.9.5"
  }
 },
 "nbformat": 4,
 "nbformat_minor": 5
}
